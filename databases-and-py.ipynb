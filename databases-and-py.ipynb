{
    "metadata": {
        "kernelspec": {
            "name": "python3",
            "display_name": "Python 3 (ipykernel)",
            "language": "python"
        },
        "language_info": {
            "name": "python",
            "version": "3.8.10",
            "mimetype": "text/x-python",
            "codemirror_mode": {
                "name": "ipython",
                "version": 3
            },
            "pygments_lexer": "ipython3",
            "nbconvert_exporter": "python",
            "file_extension": ".py"
        }
    },
    "nbformat_minor": 2,
    "nbformat": 4,
    "cells": [
        {
            "cell_type": "markdown",
            "source": [
                "# Studio: Working with Databases in Python\n",
                "\n",
                "For today's studio, we will be using the [TV Shows dataset](https://www.kaggle.com/ruchi798/tv-shows-on-netflix-prime-video-hulu-and-disney) from Kaggle. We have already downloaded the CSV for you.\n",
                "\n",
                "You will also be using the watchlist you just created to figure out which streaming services contain the shows that you want to watch next so you can decide which one is worth the money to you.\n",
                "\n",
                "As you complete the different tasks in the studio, you may choose between using Pandas or SQL. Remember that during the prep work, we learned that one is oftentimes more efficient at certain tasks than the other, so choose wisely!"
            ],
            "metadata": {
                "azdata_cell_guid": "54326aff-51cd-4766-8046-828a92489c6d"
            }
        },
        {
            "cell_type": "markdown",
            "source": [
                "## My Watchlist\n",
                "\n",
                "If you would like, please use this space to make note of your watchlist by editing the text cell.\n",
                "\n",
                "Downton Abbey \n",
                "\n",
                "Breaking Bad \n",
                "\n",
                "Bodyguard\n",
                "\n",
                "Bridgerton\n",
                "\n",
                "The office\n",
                "\n",
                "The Good Place\n",
                "\n",
                "Call the midwife"
            ],
            "metadata": {
                "azdata_cell_guid": "00bc62ef-6c46-40a2-bdad-a3250a003ce7"
            },
            "attachments": {}
        },
        {
            "cell_type": "markdown",
            "source": [
                "## Database Setup\n",
                "\n",
                "To start with, import the necessary libraries and create a dataframe from the provided CSV. Print the info out for the dataframe. After that, you may drop the column called `Unnamed: 0` and rename any columns with spaces in the names or unusual characters such as `\"+\"`. Print out the info for the dataframe again to ensure that your changes were effective."
            ],
            "metadata": {
                "azdata_cell_guid": "040bdac5-f7fc-474f-b112-1d807249ad0a"
            }
        },
        {
            "cell_type": "code",
            "source": [
                "import sqlite3 as sl\r\n",
                "import pandas as pd"
            ],
            "metadata": {
                "azdata_cell_guid": "965f15d3-27b1-43ed-97e4-8c6fd482476c",
                "tags": [],
                "language": "python"
            },
            "outputs": [],
            "execution_count": 1
        },
        {
            "cell_type": "code",
            "source": [
                "shows = pd.read_csv('tv_shows.csv') \r\n",
                "shows.info()\r\n",
                "shows = shows.loc[:, ~shows.columns.str.contains('^Unnamed')]\r\n",
                "shows = shows.rename(columns={'Rotten Tomatoes': 'Rotten_Tomatoes', 'Prime Video': 'Prime_Video','Disney+': 'DisneyPlus'})\r\n",
                "shows.info()\r\n",
                ""
            ],
            "metadata": {
                "language": "python",
                "azdata_cell_guid": "1e3059ec-eae5-4b70-a107-15d8531963f1"
            },
            "outputs": [
                {
                    "output_type": "stream",
                    "name": "stdout",
                    "text": "<class 'pandas.core.frame.DataFrame'>\nRangeIndex: 5368 entries, 0 to 5367\nData columns (total 12 columns):\n #   Column           Non-Null Count  Dtype \n---  ------           --------------  ----- \n 0   Unnamed: 0       5368 non-null   int64 \n 1   ID               5368 non-null   int64 \n 2   Title            5368 non-null   object\n 3   Year             5368 non-null   int64 \n 4   Age              3241 non-null   object\n 5   IMDb             4406 non-null   object\n 6   Rotten Tomatoes  5368 non-null   object\n 7   Netflix          5368 non-null   int64 \n 8   Hulu             5368 non-null   int64 \n 9   Prime Video      5368 non-null   int64 \n 10  Disney+          5368 non-null   int64 \n 11  Type             5368 non-null   int64 \ndtypes: int64(8), object(4)\nmemory usage: 503.4+ KB\n<class 'pandas.core.frame.DataFrame'>\nRangeIndex: 5368 entries, 0 to 5367\nData columns (total 11 columns):\n #   Column           Non-Null Count  Dtype \n---  ------           --------------  ----- \n 0   ID               5368 non-null   int64 \n 1   Title            5368 non-null   object\n 2   Year             5368 non-null   int64 \n 3   Age              3241 non-null   object\n 4   IMDb             4406 non-null   object\n 5   Rotten_Tomatoes  5368 non-null   object\n 6   Netflix          5368 non-null   int64 \n 7   Hulu             5368 non-null   int64 \n 8   Prime_Video      5368 non-null   int64 \n 9   DisneyPlus       5368 non-null   int64 \n 10  Type             5368 non-null   int64 \ndtypes: int64(7), object(4)\nmemory usage: 461.4+ KB\n"
                }
            ],
            "execution_count": 41
        },
        {
            "cell_type": "markdown",
            "source": [
                "With your dataframe at the ready, create a new database called `tv`. Add a new table to your database called `shows` using the data in the dataframe. "
            ],
            "metadata": {
                "azdata_cell_guid": "93875e01-f1ec-45ab-b8b3-c0fe09c89c41"
            }
        },
        {
            "cell_type": "code",
            "source": [
                "con = sl.connect('tv.db')\r\n",
                "shows.to_sql('shows', con)\r\n",
                "\r\n",
                "    "
            ],
            "metadata": {
                "azdata_cell_guid": "cae4affc-d930-4649-9c39-551475a83b5b",
                "tags": [],
                "language": "python"
            },
            "outputs": [
                {
                    "output_type": "execute_result",
                    "execution_count": 44,
                    "data": {
                        "text/plain": "5368"
                    },
                    "metadata": {}
                }
            ],
            "execution_count": 44
        },
        {
            "cell_type": "markdown",
            "source": [
                "With your new table and database set up, print out the top 20 records in the `shows` table."
            ],
            "metadata": {
                "azdata_cell_guid": "4916f211-149f-467b-b5e4-22ad946b54f2"
            }
        },
        {
            "cell_type": "code",
            "source": [
                "shows_from_db = pd.read_sql('Select * from shows limit 20;', con)\r\n",
                "shows_from_db"
            ],
            "metadata": {
                "azdata_cell_guid": "c6aa3980-3eef-4d7d-8f04-961508662147",
                "tags": [],
                "language": "python"
            },
            "outputs": [
                {
                    "output_type": "execute_result",
                    "execution_count": 45,
                    "data": {
                        "text/plain": "    index  ID                       Title  Year  Age    IMDb Rotten_Tomatoes  \\\n0       0   1                Breaking Bad  2008  18+  9.4/10         100/100   \n1       1   2             Stranger Things  2016  16+  8.7/10          96/100   \n2       2   3             Attack on Titan  2013  18+  9.0/10          95/100   \n3       3   4            Better Call Saul  2015  18+  8.8/10          94/100   \n4       4   5                        Dark  2017  16+  8.8/10          93/100   \n5       5   6  Avatar: The Last Airbender  2005   7+  9.3/10          93/100   \n6       6   7              Peaky Blinders  2013  18+  8.8/10          93/100   \n7       7   8            The Walking Dead  2010  18+  8.2/10          93/100   \n8       8   9                Black Mirror  2011  18+  8.8/10          92/100   \n9       9  10          The Queen's Gambit  2020  18+  8.6/10          92/100   \n10     10  11                  Mindhunter  2017  18+  8.6/10          90/100   \n11     11  12                   Community  2009   7+  8.5/10          90/100   \n12     12  13                      Narcos  2015  18+  8.8/10          90/100   \n13     13  14                   Shameless  2011  18+  8.5/10          90/100   \n14     14  15                 Money Heist  2017  18+  8.3/10          90/100   \n15     15  16          Marvel's Daredevil  2015  18+  8.6/10          90/100   \n16     16  17                     Lucifer  2016  16+  8.1/10          90/100   \n17     17  18                Supernatural  2005  16+  8.4/10          89/100   \n18     18  19                 The Witcher  2019  18+  8.2/10          89/100   \n19     19  20                       Ozark  2017  18+  8.4/10          89/100   \n\n    Netflix  Hulu  Prime_Video  DisneyPlus  Type  \n0         1     0            0           0     1  \n1         1     0            0           0     1  \n2         1     1            0           0     1  \n3         1     0            0           0     1  \n4         1     0            0           0     1  \n5         1     0            1           0     1  \n6         1     0            0           0     1  \n7         1     0            0           0     1  \n8         1     0            0           0     1  \n9         1     0            0           0     1  \n10        1     0            0           0     1  \n11        1     1            1           0     1  \n12        1     0            0           0     1  \n13        1     1            1           0     1  \n14        1     0            0           0     1  \n15        1     0            0           0     1  \n16        1     0            0           0     1  \n17        1     0            0           0     1  \n18        1     0            0           0     1  \n19        1     0            0           0     1  ",
                        "text/html": "<div>\n<style scoped>\n    .dataframe tbody tr th:only-of-type {\n        vertical-align: middle;\n    }\n\n    .dataframe tbody tr th {\n        vertical-align: top;\n    }\n\n    .dataframe thead th {\n        text-align: right;\n    }\n</style>\n<table border=\"1\" class=\"dataframe\">\n  <thead>\n    <tr style=\"text-align: right;\">\n      <th></th>\n      <th>index</th>\n      <th>ID</th>\n      <th>Title</th>\n      <th>Year</th>\n      <th>Age</th>\n      <th>IMDb</th>\n      <th>Rotten_Tomatoes</th>\n      <th>Netflix</th>\n      <th>Hulu</th>\n      <th>Prime_Video</th>\n      <th>DisneyPlus</th>\n      <th>Type</th>\n    </tr>\n  </thead>\n  <tbody>\n    <tr>\n      <th>0</th>\n      <td>0</td>\n      <td>1</td>\n      <td>Breaking Bad</td>\n      <td>2008</td>\n      <td>18+</td>\n      <td>9.4/10</td>\n      <td>100/100</td>\n      <td>1</td>\n      <td>0</td>\n      <td>0</td>\n      <td>0</td>\n      <td>1</td>\n    </tr>\n    <tr>\n      <th>1</th>\n      <td>1</td>\n      <td>2</td>\n      <td>Stranger Things</td>\n      <td>2016</td>\n      <td>16+</td>\n      <td>8.7/10</td>\n      <td>96/100</td>\n      <td>1</td>\n      <td>0</td>\n      <td>0</td>\n      <td>0</td>\n      <td>1</td>\n    </tr>\n    <tr>\n      <th>2</th>\n      <td>2</td>\n      <td>3</td>\n      <td>Attack on Titan</td>\n      <td>2013</td>\n      <td>18+</td>\n      <td>9.0/10</td>\n      <td>95/100</td>\n      <td>1</td>\n      <td>1</td>\n      <td>0</td>\n      <td>0</td>\n      <td>1</td>\n    </tr>\n    <tr>\n      <th>3</th>\n      <td>3</td>\n      <td>4</td>\n      <td>Better Call Saul</td>\n      <td>2015</td>\n      <td>18+</td>\n      <td>8.8/10</td>\n      <td>94/100</td>\n      <td>1</td>\n      <td>0</td>\n      <td>0</td>\n      <td>0</td>\n      <td>1</td>\n    </tr>\n    <tr>\n      <th>4</th>\n      <td>4</td>\n      <td>5</td>\n      <td>Dark</td>\n      <td>2017</td>\n      <td>16+</td>\n      <td>8.8/10</td>\n      <td>93/100</td>\n      <td>1</td>\n      <td>0</td>\n      <td>0</td>\n      <td>0</td>\n      <td>1</td>\n    </tr>\n    <tr>\n      <th>5</th>\n      <td>5</td>\n      <td>6</td>\n      <td>Avatar: The Last Airbender</td>\n      <td>2005</td>\n      <td>7+</td>\n      <td>9.3/10</td>\n      <td>93/100</td>\n      <td>1</td>\n      <td>0</td>\n      <td>1</td>\n      <td>0</td>\n      <td>1</td>\n    </tr>\n    <tr>\n      <th>6</th>\n      <td>6</td>\n      <td>7</td>\n      <td>Peaky Blinders</td>\n      <td>2013</td>\n      <td>18+</td>\n      <td>8.8/10</td>\n      <td>93/100</td>\n      <td>1</td>\n      <td>0</td>\n      <td>0</td>\n      <td>0</td>\n      <td>1</td>\n    </tr>\n    <tr>\n      <th>7</th>\n      <td>7</td>\n      <td>8</td>\n      <td>The Walking Dead</td>\n      <td>2010</td>\n      <td>18+</td>\n      <td>8.2/10</td>\n      <td>93/100</td>\n      <td>1</td>\n      <td>0</td>\n      <td>0</td>\n      <td>0</td>\n      <td>1</td>\n    </tr>\n    <tr>\n      <th>8</th>\n      <td>8</td>\n      <td>9</td>\n      <td>Black Mirror</td>\n      <td>2011</td>\n      <td>18+</td>\n      <td>8.8/10</td>\n      <td>92/100</td>\n      <td>1</td>\n      <td>0</td>\n      <td>0</td>\n      <td>0</td>\n      <td>1</td>\n    </tr>\n    <tr>\n      <th>9</th>\n      <td>9</td>\n      <td>10</td>\n      <td>The Queen's Gambit</td>\n      <td>2020</td>\n      <td>18+</td>\n      <td>8.6/10</td>\n      <td>92/100</td>\n      <td>1</td>\n      <td>0</td>\n      <td>0</td>\n      <td>0</td>\n      <td>1</td>\n    </tr>\n    <tr>\n      <th>10</th>\n      <td>10</td>\n      <td>11</td>\n      <td>Mindhunter</td>\n      <td>2017</td>\n      <td>18+</td>\n      <td>8.6/10</td>\n      <td>90/100</td>\n      <td>1</td>\n      <td>0</td>\n      <td>0</td>\n      <td>0</td>\n      <td>1</td>\n    </tr>\n    <tr>\n      <th>11</th>\n      <td>11</td>\n      <td>12</td>\n      <td>Community</td>\n      <td>2009</td>\n      <td>7+</td>\n      <td>8.5/10</td>\n      <td>90/100</td>\n      <td>1</td>\n      <td>1</td>\n      <td>1</td>\n      <td>0</td>\n      <td>1</td>\n    </tr>\n    <tr>\n      <th>12</th>\n      <td>12</td>\n      <td>13</td>\n      <td>Narcos</td>\n      <td>2015</td>\n      <td>18+</td>\n      <td>8.8/10</td>\n      <td>90/100</td>\n      <td>1</td>\n      <td>0</td>\n      <td>0</td>\n      <td>0</td>\n      <td>1</td>\n    </tr>\n    <tr>\n      <th>13</th>\n      <td>13</td>\n      <td>14</td>\n      <td>Shameless</td>\n      <td>2011</td>\n      <td>18+</td>\n      <td>8.5/10</td>\n      <td>90/100</td>\n      <td>1</td>\n      <td>1</td>\n      <td>1</td>\n      <td>0</td>\n      <td>1</td>\n    </tr>\n    <tr>\n      <th>14</th>\n      <td>14</td>\n      <td>15</td>\n      <td>Money Heist</td>\n      <td>2017</td>\n      <td>18+</td>\n      <td>8.3/10</td>\n      <td>90/100</td>\n      <td>1</td>\n      <td>0</td>\n      <td>0</td>\n      <td>0</td>\n      <td>1</td>\n    </tr>\n    <tr>\n      <th>15</th>\n      <td>15</td>\n      <td>16</td>\n      <td>Marvel's Daredevil</td>\n      <td>2015</td>\n      <td>18+</td>\n      <td>8.6/10</td>\n      <td>90/100</td>\n      <td>1</td>\n      <td>0</td>\n      <td>0</td>\n      <td>0</td>\n      <td>1</td>\n    </tr>\n    <tr>\n      <th>16</th>\n      <td>16</td>\n      <td>17</td>\n      <td>Lucifer</td>\n      <td>2016</td>\n      <td>16+</td>\n      <td>8.1/10</td>\n      <td>90/100</td>\n      <td>1</td>\n      <td>0</td>\n      <td>0</td>\n      <td>0</td>\n      <td>1</td>\n    </tr>\n    <tr>\n      <th>17</th>\n      <td>17</td>\n      <td>18</td>\n      <td>Supernatural</td>\n      <td>2005</td>\n      <td>16+</td>\n      <td>8.4/10</td>\n      <td>89/100</td>\n      <td>1</td>\n      <td>0</td>\n      <td>0</td>\n      <td>0</td>\n      <td>1</td>\n    </tr>\n    <tr>\n      <th>18</th>\n      <td>18</td>\n      <td>19</td>\n      <td>The Witcher</td>\n      <td>2019</td>\n      <td>18+</td>\n      <td>8.2/10</td>\n      <td>89/100</td>\n      <td>1</td>\n      <td>0</td>\n      <td>0</td>\n      <td>0</td>\n      <td>1</td>\n    </tr>\n    <tr>\n      <th>19</th>\n      <td>19</td>\n      <td>20</td>\n      <td>Ozark</td>\n      <td>2017</td>\n      <td>18+</td>\n      <td>8.4/10</td>\n      <td>89/100</td>\n      <td>1</td>\n      <td>0</td>\n      <td>0</td>\n      <td>0</td>\n      <td>1</td>\n    </tr>\n  </tbody>\n</table>\n</div>"
                    },
                    "metadata": {}
                }
            ],
            "execution_count": 45
        },
        {
            "cell_type": "markdown",
            "source": [
                "Now add a table that includes an id number and the titles on your watchlist."
            ],
            "metadata": {
                "azdata_cell_guid": "f158ccd2-c87a-4d2c-a947-0eadd0484a3e"
            }
        },
        {
            "cell_type": "code",
            "source": [
                "with con:\r\n",
                "    con.execute(\"\"\"CREATE TABLE wishlist(\r\n",
                "ID INTEGER NOT NULL PRIMARY KEY AUTOINCREMENT,\r\n",
                "Title TEXT);\"\"\")"
            ],
            "metadata": {
                "azdata_cell_guid": "f95defad-521b-4112-8435-08daaac80b80",
                "language": "python"
            },
            "outputs": [],
            "execution_count": 23
        },
        {
            "cell_type": "code",
            "source": [
                "sql = 'INSERT INTO wishlist (ID,Title) values(?,?)'\r\n",
                "data = [\r\n",
                "    (74,'Downton Abbey'),\r\n",
                "    (1,'Breaking Bad'),\r\n",
                "    (77,'Bodyguard'),\r\n",
                "    (121,'Bridgerton'),\r\n",
                "    (2010,'The Office'),\r\n",
                "    (27,'The Good Place'),\r\n",
                "    (139,'Call the Midwife')\r\n",
                "   ]"
            ],
            "metadata": {
                "language": "python",
                "azdata_cell_guid": "32007519-aada-493f-b0fd-30aefd6e1400"
            },
            "outputs": [],
            "execution_count": 25
        },
        {
            "cell_type": "code",
            "source": [
                "with con:\r\n",
                "    con.executemany(sql, data)"
            ],
            "metadata": {
                "language": "python",
                "azdata_cell_guid": "6b954272-dbb8-42b1-b5b2-affd466b2d32"
            },
            "outputs": [],
            "execution_count": 26
        },
        {
            "cell_type": "code",
            "source": [
                "wishlist = pd.read_sql('Select * from wishlist ;', con)\r\n",
                "wishlist"
            ],
            "metadata": {
                "language": "python",
                "azdata_cell_guid": "174143fa-798d-4fcd-8df1-8147ecc82d1a"
            },
            "outputs": [
                {
                    "output_type": "execute_result",
                    "execution_count": 46,
                    "data": {
                        "text/plain": "     ID             Title\n0     1      Breaking Bad\n1    27    The Good Place\n2    74     Downton Abbey\n3    77         Bodyguard\n4   121        Bridgerton\n5   139  Call the Midwife\n6  2010        The Office",
                        "text/html": "<div>\n<style scoped>\n    .dataframe tbody tr th:only-of-type {\n        vertical-align: middle;\n    }\n\n    .dataframe tbody tr th {\n        vertical-align: top;\n    }\n\n    .dataframe thead th {\n        text-align: right;\n    }\n</style>\n<table border=\"1\" class=\"dataframe\">\n  <thead>\n    <tr style=\"text-align: right;\">\n      <th></th>\n      <th>ID</th>\n      <th>Title</th>\n    </tr>\n  </thead>\n  <tbody>\n    <tr>\n      <th>0</th>\n      <td>1</td>\n      <td>Breaking Bad</td>\n    </tr>\n    <tr>\n      <th>1</th>\n      <td>27</td>\n      <td>The Good Place</td>\n    </tr>\n    <tr>\n      <th>2</th>\n      <td>74</td>\n      <td>Downton Abbey</td>\n    </tr>\n    <tr>\n      <th>3</th>\n      <td>77</td>\n      <td>Bodyguard</td>\n    </tr>\n    <tr>\n      <th>4</th>\n      <td>121</td>\n      <td>Bridgerton</td>\n    </tr>\n    <tr>\n      <th>5</th>\n      <td>139</td>\n      <td>Call the Midwife</td>\n    </tr>\n    <tr>\n      <th>6</th>\n      <td>2010</td>\n      <td>The Office</td>\n    </tr>\n  </tbody>\n</table>\n</div>"
                    },
                    "metadata": {}
                }
            ],
            "execution_count": 46
        },
        {
            "cell_type": "markdown",
            "source": [
                "## Working with the Data\n",
                "\n",
                "Using either Pandas or SQL, determine how many shows are on each streaming service and what the mean is for each streaming service. \n",
                "\n",
                "**Note**: You may notice that the mean represents the percentage of shows in the dataframe that are on each streaming service. Take a moment to think about why that is."
            ],
            "metadata": {
                "azdata_cell_guid": "4716090d-63e3-4283-8245-934c4a28c750"
            }
        },
        {
            "cell_type": "code",
            "source": [
                "# shows_by_platform = pd.read_sql('Select  from wishlist ;', con)\r\n",
                "# shows_by_platf\r\n",
                "Netflix_shows_count = shows['Netflix'].sum()\r\n",
                "Netflix_percentage = (Netflix_shows_count/shows['Netflix'].count())*100\r\n",
                "print(f'Netflix shows count is {Netflix_shows_count} and percentage is {Netflix_percentage}')\r\n",
                "\r\n",
                "Hulu_shows_count = shows['Hulu'].sum()\r\n",
                "Hulu_percentage = (Hulu_shows_count/shows['Hulu'].count())*100\r\n",
                "print(f'Hulu shows count is {Hulu_shows_count} and percentage is {Hulu_percentage}')\r\n",
                "\r\n",
                "Prime_Video_shows_count = shows['Prime_Video'].sum()\r\n",
                "Prime_Video_percentage = (Prime_Video_shows_count/shows['Prime_Video'].count())*100\r\n",
                "print(f'Prime_Video shows count is {Prime_Video_shows_count} and percentage is {Prime_Video_percentage}')\r\n",
                "\r\n",
                "DisneyPlus_shows_count = shows['DisneyPlus'].sum()\r\n",
                "DisneyPlus_percentage = (DisneyPlus_shows_count/shows['DisneyPlus'].count())*100\r\n",
                "print(f'DisneyPlus shows count is {DisneyPlus_shows_count} and percentage is {DisneyPlus_percentage}')"
            ],
            "metadata": {
                "azdata_cell_guid": "8e4f3757-474f-4e20-b861-db973437b541",
                "language": "python"
            },
            "outputs": [
                {
                    "output_type": "stream",
                    "name": "stdout",
                    "text": "Netflix shows count is 1971 and percentage is 36.71758569299553\nHulu shows count is 1621 and percentage is 30.19746646795827\nPrime_Video shows count is 1831 and percentage is 34.10953800298063\nDisneyPlus shows count is 351 and percentage is 6.538748137108792\n"
                }
            ],
            "execution_count": 47
        },
        {
            "cell_type": "markdown",
            "source": [
                "Join your watchlist data with the shows data to determine which streaming services your watchlist shows are on and make a new table in your database using the joined data. Print out the data in your joined table to see what shows on your watchlist on in the original dataset. With the joined data, determine the percentage of your watchlist shows that are on each streaming service and how many of your watchlist shows are on each streaming service."
            ],
            "metadata": {
                "azdata_cell_guid": "167cbd0d-ad9f-4f27-8066-e45dfdfaf421"
            }
        },
        {
            "cell_type": "code",
            "source": [
                "final = pd.merge(wishlist, shows, on=['ID','Title'] ,how='left')\r\n",
                "Netflix_shows_count = final['Netflix'].sum()\r\n",
                "Netflix_percentage = (Netflix_shows_count/final['Netflix'].count())*100\r\n",
                "print(f'Netflix shows count is {Netflix_shows_count} and percentage is {Netflix_percentage}')\r\n",
                "\r\n",
                "Hulu_shows_count = final['Hulu'].sum()\r\n",
                "Hulu_percentage = (Hulu_shows_count/final['Hulu'].count())*100\r\n",
                "print(f'Hulu shows count is {Hulu_shows_count} and percentage is {Hulu_percentage}')\r\n",
                "\r\n",
                "Prime_Video_shows_count = final['Prime_Video'].sum()\r\n",
                "Prime_Video_percentage = (Prime_Video_shows_count/final['Prime_Video'].count())*100\r\n",
                "print(f'Prime_Video shows count is {Prime_Video_shows_count} and percentage is {Prime_Video_percentage}')\r\n",
                "\r\n",
                "DisneyPlus_shows_count = final['DisneyPlus'].sum()\r\n",
                "DisneyPlus_percentage = (DisneyPlus_shows_count/final['DisneyPlus'].count())*100\r\n",
                "print(f'DisneyPlus shows count is {DisneyPlus_shows_count} and percentage is {DisneyPlus_percentage}')"
            ],
            "metadata": {
                "azdata_cell_guid": "b871523e-a476-4f3a-a6ac-2e251f140e84",
                "language": "python"
            },
            "outputs": [
                {
                    "output_type": "stream",
                    "name": "stdout",
                    "text": "Netflix shows count is 6 and percentage is 85.71428571428571\nHulu shows count is 1 and percentage is 14.285714285714285\nPrime_Video shows count is 2 and percentage is 28.57142857142857\nDisneyPlus shows count is 0 and percentage is 0.0\n"
                }
            ],
            "execution_count": 53
        },
        {
            "cell_type": "code",
            "source": [
                "final"
            ],
            "metadata": {
                "language": "python",
                "azdata_cell_guid": "71b31eda-b7a6-4a9e-8b5d-e6fd3fd6404b"
            },
            "outputs": [
                {
                    "output_type": "execute_result",
                    "execution_count": 54,
                    "data": {
                        "text/plain": "     ID             Title  Year  Age    IMDb Rotten_Tomatoes  Netflix  Hulu  \\\n0     1      Breaking Bad  2008  18+  9.4/10         100/100        1     0   \n1    27    The Good Place  2016  16+  8.2/10          88/100        1     0   \n2    74     Downton Abbey  2010  16+  8.7/10          83/100        1     0   \n3    77         Bodyguard  2018  18+  8.1/10          83/100        1     0   \n4   121        Bridgerton  2020  NaN  7.3/10          79/100        1     0   \n5   139  Call the Midwife  2012  16+  8.4/10          78/100        1     0   \n6  2010        The Office  2001  16+  8.5/10          84/100        0     1   \n\n   Prime_Video  DisneyPlus  Type  \n0            0           0     1  \n1            0           0     1  \n2            1           0     1  \n3            0           0     1  \n4            0           0     1  \n5            0           0     1  \n6            1           0     1  ",
                        "text/html": "<div>\n<style scoped>\n    .dataframe tbody tr th:only-of-type {\n        vertical-align: middle;\n    }\n\n    .dataframe tbody tr th {\n        vertical-align: top;\n    }\n\n    .dataframe thead th {\n        text-align: right;\n    }\n</style>\n<table border=\"1\" class=\"dataframe\">\n  <thead>\n    <tr style=\"text-align: right;\">\n      <th></th>\n      <th>ID</th>\n      <th>Title</th>\n      <th>Year</th>\n      <th>Age</th>\n      <th>IMDb</th>\n      <th>Rotten_Tomatoes</th>\n      <th>Netflix</th>\n      <th>Hulu</th>\n      <th>Prime_Video</th>\n      <th>DisneyPlus</th>\n      <th>Type</th>\n    </tr>\n  </thead>\n  <tbody>\n    <tr>\n      <th>0</th>\n      <td>1</td>\n      <td>Breaking Bad</td>\n      <td>2008</td>\n      <td>18+</td>\n      <td>9.4/10</td>\n      <td>100/100</td>\n      <td>1</td>\n      <td>0</td>\n      <td>0</td>\n      <td>0</td>\n      <td>1</td>\n    </tr>\n    <tr>\n      <th>1</th>\n      <td>27</td>\n      <td>The Good Place</td>\n      <td>2016</td>\n      <td>16+</td>\n      <td>8.2/10</td>\n      <td>88/100</td>\n      <td>1</td>\n      <td>0</td>\n      <td>0</td>\n      <td>0</td>\n      <td>1</td>\n    </tr>\n    <tr>\n      <th>2</th>\n      <td>74</td>\n      <td>Downton Abbey</td>\n      <td>2010</td>\n      <td>16+</td>\n      <td>8.7/10</td>\n      <td>83/100</td>\n      <td>1</td>\n      <td>0</td>\n      <td>1</td>\n      <td>0</td>\n      <td>1</td>\n    </tr>\n    <tr>\n      <th>3</th>\n      <td>77</td>\n      <td>Bodyguard</td>\n      <td>2018</td>\n      <td>18+</td>\n      <td>8.1/10</td>\n      <td>83/100</td>\n      <td>1</td>\n      <td>0</td>\n      <td>0</td>\n      <td>0</td>\n      <td>1</td>\n    </tr>\n    <tr>\n      <th>4</th>\n      <td>121</td>\n      <td>Bridgerton</td>\n      <td>2020</td>\n      <td>NaN</td>\n      <td>7.3/10</td>\n      <td>79/100</td>\n      <td>1</td>\n      <td>0</td>\n      <td>0</td>\n      <td>0</td>\n      <td>1</td>\n    </tr>\n    <tr>\n      <th>5</th>\n      <td>139</td>\n      <td>Call the Midwife</td>\n      <td>2012</td>\n      <td>16+</td>\n      <td>8.4/10</td>\n      <td>78/100</td>\n      <td>1</td>\n      <td>0</td>\n      <td>0</td>\n      <td>0</td>\n      <td>1</td>\n    </tr>\n    <tr>\n      <th>6</th>\n      <td>2010</td>\n      <td>The Office</td>\n      <td>2001</td>\n      <td>16+</td>\n      <td>8.5/10</td>\n      <td>84/100</td>\n      <td>0</td>\n      <td>1</td>\n      <td>1</td>\n      <td>0</td>\n      <td>1</td>\n    </tr>\n  </tbody>\n</table>\n</div>"
                    },
                    "metadata": {}
                }
            ],
            "execution_count": 54
        },
        {
            "cell_type": "markdown",
            "source": [
                "## Results\n",
                "\n",
                "Now that you have done your analysis, make note of the answers to the following questions by editing the text cell:\n",
                "\n",
                "1. Was every show on your watchlist in the Kaggle dataset? Do you have any ideas as to why a show might not have been present?\n",
                "2. Did you include a show or shows in your watchlist that is exclusive to one of the platforms? How might that have impacted your analysis?\n",
                "2. Which streaming service(s) offered the most shows on your watchlist? Which streaming service(s) offered the least?\n",
                "3. Based on the shows you want to watch and the results of your analysis, is there a streaming service you think would be a good fit for you?"
            ],
            "metadata": {
                "azdata_cell_guid": "909689e4-1aae-41e3-b1f8-158ebe5ec3ca"
            }
        }
    ]
}